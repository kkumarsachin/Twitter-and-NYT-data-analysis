{
 "cells": [
  {
   "cell_type": "code",
   "execution_count": null,
   "metadata": {},
   "outputs": [],
   "source": [
    "require(twitteR)\n",
    "require(RCurl)\n",
    "require(ggmap)\n",
    "Consumer_key<-\"zJJnsdlWGRQENEfLWckjpNeFs\"\n",
    "Consumer_secret<-\"tQ33jeVOozQdXVMDBM8JCJkqNF9QPQuq0W3o0iRLPChNvjEa2Y\"\n",
    "Access_token<-\"2323833800-stpBSif0MYKUCb7Sot4mOC5Zn3fRYyQRi84AVsu\"\n",
    "Access_secret<-\"H3tEPn0sUImcTOBztmNXpcHkk0knFdW1hFTjZxHuRxPCy\"\n",
    "\n",
    "setup_twitter_oauth(Consumer_key,Consumer_secret,Access_token,Access_secret)\n",
    "crypt_tweets <- searchTwitter('bitcoin', n = 1000, lang = \"en\",since=\"2018-04-01\",until=\"2018-04-02\")\n",
    "text_data<-sapply(crypt_tweets, function(x) x$getText())\n",
    "#str(text_data)\n",
    "text_data1<-data.frame(text_data)\n",
    "write.table(text_data1, \"D:/Course work/Data intensive computing/LAB2/Data/Day7\") \n"
   ]
  }
 ],
 "metadata": {
  "kernelspec": {
   "display_name": "Python 3",
   "language": "python",
   "name": "python3"
  },
  "language_info": {
   "codemirror_mode": {
    "name": "ipython",
    "version": 3
   },
   "file_extension": ".py",
   "mimetype": "text/x-python",
   "name": "python",
   "nbconvert_exporter": "python",
   "pygments_lexer": "ipython3",
   "version": "3.6.3"
  }
 },
 "nbformat": 4,
 "nbformat_minor": 2
}
