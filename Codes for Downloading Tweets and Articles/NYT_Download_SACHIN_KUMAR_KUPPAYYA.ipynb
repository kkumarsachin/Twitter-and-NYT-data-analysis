{
 "cells": [
  {
   "cell_type": "code",
   "execution_count": 201,
   "metadata": {},
   "outputs": [],
   "source": [
    "from bs4 import BeautifulSoup\n",
    "import requests\n",
    "import json\n",
    "\n",
    "url = \"http://api.nytimes.com/svc/search/v2/articlesearch.json?q=bitcoin&begin_date=20180210&end_date=20180319&page=3&sort=oldest&api-key=08503df40daa4fd4bbceec8f5b2b8605\"\n",
    "resp = requests.get(url)\n",
    "data = json.loads(resp.text)\n"
   ]
  },
  {
   "cell_type": "code",
   "execution_count": 202,
   "metadata": {},
   "outputs": [
    {
     "name": "stdout",
     "output_type": "stream",
     "text": [
      "https://www.nytimes.com/2018/03/05/arts/television/whats-on-tv-monday-the-bachelor-and-delicious.html\n",
      "https://www.nytimes.com/2018/03/07/business/dealbook/gary-cohn-leaving.html\n",
      "https://www.nytimes.com/2018/03/07/technology/peter-thiel-trump-facebook.html\n",
      "https://www.nytimes.com/2018/03/08/arts/television/whats-on-tv-thursday-jessica-jones-and-atlanta.html\n",
      "https://www.nytimes.com/2018/03/08/business/dealbook/cigna-express-scripts-deal.html\n",
      "https://www.nytimes.com/2018/03/09/business/dealbook/trump-trade-tariffs.html\n",
      "https://www.nytimes.com/2018/03/12/business/dealbook/saudi-arabia-crackdown.html\n",
      "https://www.nytimes.com/2018/03/13/nyregion/new-york-today-finding-a-place-to-disconnect.html\n",
      "https://www.nytimes.com/2018/03/13/business/dealbook/trump-broadcom-qualcomm.html\n",
      "https://www.nytimes.com/2018/03/14/briefing/stephen-hawking-russia-angela-merkel.html\n"
     ]
    }
   ],
   "source": [
    "\n",
    "for x in range(0, 10):\n",
    "    #print (data[\"response\"][\"docs\"])\n",
    "    new_url = data[\"response\"][\"docs\"][x][\"web_url\"]\n",
    "    print(data[\"response\"][\"docs\"][x][\"web_url\"])\n",
    "    r = requests.get(new_url)\n",
    "    soup = BeautifulSoup(r.text,'html.parser')\n",
    "    results = soup.find_all('p',attrs={'class':'story-body-text story-content'})\n",
    "    filename = \"file\" + str(40+ x ) + \".txt\"\n",
    "    text_file = open(filename,\"w\")\n",
    "    for i in range(0,len(results)-1) :\n",
    "        text_file.write(results[i].text)\n",
    "    \n",
    "    "
   ]
  },
  {
   "cell_type": "code",
   "execution_count": 203,
   "metadata": {},
   "outputs": [
    {
     "name": "stdout",
     "output_type": "stream",
     "text": [
      "https://www.nytimes.com/2018/03/14/briefing/stephen-hawking-russia-angela-merkel.html\n"
     ]
    }
   ],
   "source": [
    "\n",
    "for x in range(9, 10):\n",
    "    #print (data[\"response\"][\"docs\"])\n",
    "    new_url = data[\"response\"][\"docs\"][x][\"web_url\"]\n",
    "    print(data[\"response\"][\"docs\"][x][\"web_url\"])\n",
    "    r = requests.get(new_url)\n",
    "    soup = BeautifulSoup(r.text,'html.parser')\n",
    "    results = soup.find_all('p',attrs={'class':'story-body-text story-content'})\n",
    "    filename = \"file\" + str(40+ x ) + \".txt\"\n",
    "    text_file = open(filename,\"w\")\n",
    "    for i in range(0,len(results)-1) :\n",
    "        text_file.write(results[i].text)"
   ]
  },
  {
   "cell_type": "code",
   "execution_count": null,
   "metadata": {},
   "outputs": [],
   "source": []
  },
  {
   "cell_type": "code",
   "execution_count": null,
   "metadata": {},
   "outputs": [],
   "source": []
  },
  {
   "cell_type": "code",
   "execution_count": null,
   "metadata": {},
   "outputs": [],
   "source": []
  }
 ],
 "metadata": {
  "kernelspec": {
   "display_name": "Python 3",
   "language": "python",
   "name": "python3"
  },
  "language_info": {
   "codemirror_mode": {
    "name": "ipython",
    "version": 3
   },
   "file_extension": ".py",
   "mimetype": "text/x-python",
   "name": "python",
   "nbconvert_exporter": "python",
   "pygments_lexer": "ipython3",
   "version": "3.6.3"
  }
 },
 "nbformat": 4,
 "nbformat_minor": 2
}
